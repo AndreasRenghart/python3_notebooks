{
 "cells": [
  {
   "cell_type": "markdown",
   "metadata": {},
   "source": [
    "# Regular Expressions"
   ]
  },
  {
   "cell_type": "code",
   "execution_count": 2,
   "metadata": {},
   "outputs": [],
   "source": [
    "import re"
   ]
  },
  {
   "cell_type": "code",
   "execution_count": 89,
   "metadata": {},
   "outputs": [],
   "source": [
    "text = (\"Jones Cardigan, 33, 0049171465734\\n\"\n",
    "        \"jones-c.online.com, 22.01.1987\\n\" \n",
    "        \"a2b3c45abab\"\n",
    "       )"
   ]
  },
  {
   "cell_type": "code",
   "execution_count": 17,
   "metadata": {},
   "outputs": [
    {
     "data": {
      "text/plain": [
       "<re.Match object; span=(0, 5), match='Jones'>"
      ]
     },
     "execution_count": 17,
     "metadata": {},
     "output_type": "execute_result"
    }
   ],
   "source": [
    "# Find substring\n",
    "exp=re.compile(r\"Jones\")\n",
    "match=exp.search(text)\n",
    "match"
   ]
  },
  {
   "cell_type": "code",
   "execution_count": 18,
   "metadata": {},
   "outputs": [
    {
     "data": {
      "text/plain": [
       "0"
      ]
     },
     "execution_count": 18,
     "metadata": {},
     "output_type": "execute_result"
    }
   ],
   "source": [
    "match.start()"
   ]
  },
  {
   "cell_type": "code",
   "execution_count": 19,
   "metadata": {},
   "outputs": [
    {
     "data": {
      "text/plain": [
       "5"
      ]
     },
     "execution_count": 19,
     "metadata": {},
     "output_type": "execute_result"
    }
   ],
   "source": [
    "match.end()"
   ]
  },
  {
   "cell_type": "code",
   "execution_count": 20,
   "metadata": {},
   "outputs": [
    {
     "data": {
      "text/plain": [
       "'Jones'"
      ]
     },
     "execution_count": 20,
     "metadata": {},
     "output_type": "execute_result"
    }
   ],
   "source": [
    "match.group()"
   ]
  },
  {
   "cell_type": "markdown",
   "metadata": {},
   "source": [
    "**Metacharacters in Regular Expressions**"
   ]
  },
  {
   "cell_type": "code",
   "execution_count": 21,
   "metadata": {},
   "outputs": [
    {
     "data": {
      "text/plain": [
       "<re.Match object; span=(0, 1), match='J'>"
      ]
     },
     "execution_count": 21,
     "metadata": {},
     "output_type": "execute_result"
    }
   ],
   "source": [
    "# Find single character from char list\n",
    "exp=re.compile(r\"[a-zA-Z0-9]\")\n",
    "match=exp.search(text)\n",
    "match"
   ]
  },
  {
   "cell_type": "code",
   "execution_count": 57,
   "metadata": {},
   "outputs": [
    {
     "data": {
      "text/plain": [
       "<re.Match object; span=(14, 15), match=','>"
      ]
     },
     "execution_count": 57,
     "metadata": {},
     "output_type": "execute_result"
    }
   ],
   "source": [
    "# Find character others than listed\n",
    "exp=re.compile(r\"[^a-zA-Z0-9\\s]\")\n",
    "match=exp.search(text)\n",
    "match"
   ]
  },
  {
   "cell_type": "code",
   "execution_count": 22,
   "metadata": {},
   "outputs": [
    {
     "data": {
      "text/plain": [
       "<re.Match object; span=(5, 6), match=' '>"
      ]
     },
     "execution_count": 22,
     "metadata": {},
     "output_type": "execute_result"
    }
   ],
   "source": [
    "# Find space\n",
    "exp=re.compile(r\"\\s\")\n",
    "match=exp.search(text)\n",
    "match"
   ]
  },
  {
   "cell_type": "code",
   "execution_count": 102,
   "metadata": {},
   "outputs": [
    {
     "data": {
      "text/plain": [
       "<re.Match object; span=(0, 1), match='J'>"
      ]
     },
     "execution_count": 102,
     "metadata": {},
     "output_type": "execute_result"
    }
   ],
   "source": [
    "# Find everything thats no a space\n",
    "exp=re.compile(r\"\\S\")\n",
    "match=exp.search(text)\n",
    "match"
   ]
  },
  {
   "cell_type": "code",
   "execution_count": 23,
   "metadata": {},
   "outputs": [
    {
     "data": {
      "text/plain": [
       "<re.Match object; span=(0, 1), match='J'>"
      ]
     },
     "execution_count": 23,
     "metadata": {},
     "output_type": "execute_result"
    }
   ],
   "source": [
    "# Find any character\n",
    "exp=re.compile(r\".\", re.DOTALL)\n",
    "match=exp.search(text)\n",
    "match"
   ]
  },
  {
   "cell_type": "code",
   "execution_count": 24,
   "metadata": {},
   "outputs": [
    {
     "data": {
      "text/plain": [
       "<re.Match object; span=(20, 25), match='00491'>"
      ]
     },
     "execution_count": 24,
     "metadata": {},
     "output_type": "execute_result"
    }
   ],
   "source": [
    "# Find 5 digits in sequence\n",
    "exp=re.compile(r\"\\d{5}\")\n",
    "match=exp.search(text)\n",
    "match"
   ]
  },
  {
   "cell_type": "code",
   "execution_count": 25,
   "metadata": {},
   "outputs": [
    {
     "data": {
      "text/plain": [
       "<re.Match object; span=(62, 66), match='a2b3'>"
      ]
     },
     "execution_count": 25,
     "metadata": {},
     "output_type": "execute_result"
    }
   ],
   "source": [
    "# Find letter, followed by digit (repeated 2 times)\n",
    "exp=re.compile(r\"([a-z]\\d){2}\")\n",
    "match=exp.search(text)\n",
    "match"
   ]
  },
  {
   "cell_type": "code",
   "execution_count": 26,
   "metadata": {},
   "outputs": [
    {
     "data": {
      "text/plain": [
       "<re.Match object; span=(62, 65), match='a2b'>"
      ]
     },
     "execution_count": 26,
     "metadata": {},
     "output_type": "execute_result"
    }
   ],
   "source": [
    "# Find a, followed by one or zero digits, followed by b\n",
    "exp=re.compile(r\"a\\d?b\")\n",
    "match=exp.search(text)\n",
    "match"
   ]
  },
  {
   "cell_type": "code",
   "execution_count": 27,
   "metadata": {},
   "outputs": [
    {
     "data": {
      "text/plain": [
       "<re.Match object; span=(50, 60), match='12.01.1987'>"
      ]
     },
     "execution_count": 27,
     "metadata": {},
     "output_type": "execute_result"
    }
   ],
   "source": [
    "# Find date in format xx.xx.xxxx\n",
    "exp=re.compile(r\"\\d{2}\\.\\d{2}\\.\\d{4}\")\n",
    "match=exp.search(text)\n",
    "match"
   ]
  },
  {
   "cell_type": "code",
   "execution_count": 28,
   "metadata": {},
   "outputs": [
    {
     "data": {
      "text/plain": [
       "<re.Match object; span=(6, 7), match='C'>"
      ]
     },
     "execution_count": 28,
     "metadata": {},
     "output_type": "execute_result"
    }
   ],
   "source": [
    "# Ignorecase\n",
    "exp=re.compile(r\"c\", re.IGNORECASE)\n",
    "match=exp.search(text)\n",
    "match"
   ]
  },
  {
   "cell_type": "code",
   "execution_count": 30,
   "metadata": {},
   "outputs": [
    {
     "data": {
      "text/plain": [
       "<re.Match object; span=(0, 34), match='Jones Cardigan, 33, 0049171465734 '>"
      ]
     },
     "execution_count": 30,
     "metadata": {},
     "output_type": "execute_result"
    }
   ],
   "source": [
    "# Sequence of any characters (except line break)\n",
    "exp=re.compile(r\".*\")\n",
    "match=exp.search(text)\n",
    "match"
   ]
  },
  {
   "cell_type": "code",
   "execution_count": 32,
   "metadata": {},
   "outputs": [
    {
     "data": {
      "text/plain": [
       "'Jones Cardigan, 33, 0049171465734 \\ninfo@jones.de, 12.01.1987 \\na2b3c45'"
      ]
     },
     "execution_count": 32,
     "metadata": {},
     "output_type": "execute_result"
    }
   ],
   "source": [
    "# Sequence of any characters \n",
    "exp=re.compile(r\".*\", re.DOTALL)\n",
    "match=exp.search(text)\n",
    "match.group()"
   ]
  },
  {
   "cell_type": "code",
   "execution_count": 41,
   "metadata": {},
   "outputs": [
    {
     "data": {
      "text/plain": [
       "<re.Match object; span=(0, 2), match='Jo'>"
      ]
     },
     "execution_count": 41,
     "metadata": {},
     "output_type": "execute_result"
    }
   ],
   "source": [
    "# Search for expr at beginning of whole text\n",
    "exp=re.compile(r\"^Jo\")\n",
    "match=exp.search(text)\n",
    "match"
   ]
  },
  {
   "cell_type": "code",
   "execution_count": 49,
   "metadata": {},
   "outputs": [
    {
     "data": {
      "text/plain": [
       "<re.Match object; span=(35, 37), match='jo'>"
      ]
     },
     "execution_count": 49,
     "metadata": {},
     "output_type": "execute_result"
    }
   ],
   "source": [
    "# Search at beginning of each line\n",
    "exp=re.compile(r\"^jo\", re.MULTILINE)\n",
    "match=exp.search(text)\n",
    "match"
   ]
  },
  {
   "cell_type": "code",
   "execution_count": 54,
   "metadata": {},
   "outputs": [
    {
     "data": {
      "text/plain": [
       "<re.Match object; span=(62, 64), match='87'>"
      ]
     },
     "execution_count": 54,
     "metadata": {},
     "output_type": "execute_result"
    }
   ],
   "source": [
    "# End of text/line anchor: $\n",
    "exp=re.compile(r\"87$\", re.MULTILINE)\n",
    "match=exp.search(text)\n",
    "match"
   ]
  },
  {
   "cell_type": "code",
   "execution_count": 85,
   "metadata": {},
   "outputs": [
    {
     "data": {
      "text/plain": [
       "<re.Match object; span=(0, 39), match='Jones Cardigan, 33, 0049171465734\\njones'>"
      ]
     },
     "execution_count": 85,
     "metadata": {},
     "output_type": "execute_result"
    }
   ],
   "source": [
    "# * and + by default greedy = they yield the longest matching string\n",
    "exp=re.compile(r\"J.*s\", re.DOTALL)\n",
    "match=exp.search(text)\n",
    "match"
   ]
  },
  {
   "cell_type": "code",
   "execution_count": 86,
   "metadata": {},
   "outputs": [
    {
     "data": {
      "text/plain": [
       "<re.Match object; span=(0, 5), match='Jones'>"
      ]
     },
     "execution_count": 86,
     "metadata": {},
     "output_type": "execute_result"
    }
   ],
   "source": [
    "# Place ? after quantifier to make it non-greedy\n",
    "exp=re.compile(r\"J.*?s\", re.DOTALL)\n",
    "match=exp.search(text)\n",
    "match"
   ]
  },
  {
   "cell_type": "markdown",
   "metadata": {},
   "source": [
    "**Iterate over search results**"
   ]
  },
  {
   "cell_type": "code",
   "execution_count": 88,
   "metadata": {},
   "outputs": [
    {
     "name": "stdout",
     "output_type": "stream",
     "text": [
      "<re.Match object; span=(0, 5), match='Jones'>\n",
      "<re.Match object; span=(34, 39), match='jones'>\n"
     ]
    }
   ],
   "source": [
    "exp=re.compile(r\"jones\", re.IGNORECASE)\n",
    "for match in exp.finditer(text):\n",
    "    print(match)"
   ]
  },
  {
   "cell_type": "markdown",
   "metadata": {},
   "source": [
    "**Extracting groups**"
   ]
  },
  {
   "cell_type": "code",
   "execution_count": 95,
   "metadata": {},
   "outputs": [
    {
     "data": {
      "text/plain": [
       "('22.01.1987', '22', '01', '1987')"
      ]
     },
     "execution_count": 95,
     "metadata": {},
     "output_type": "execute_result"
    }
   ],
   "source": [
    "# Extract day, month and year from a date\n",
    "exp=re.compile(r\"(\\d{2})\\.(\\d{2})\\.(\\d{4})\")\n",
    "match = exp.search(text)\n",
    "match.group(), match.group(1), match.group(2), match.group(3)"
   ]
  },
  {
   "cell_type": "markdown",
   "metadata": {},
   "source": [
    "**Replace**"
   ]
  },
  {
   "cell_type": "code",
   "execution_count": 97,
   "metadata": {},
   "outputs": [
    {
     "data": {
      "text/plain": [
       "'Jones Cardigan, 33, 0049171465734\\njones-c.online.com, 1987-01-22\\na2b3c45abab'"
      ]
     },
     "execution_count": 97,
     "metadata": {},
     "output_type": "execute_result"
    }
   ],
   "source": [
    "# Change format of all dates to yyyy-mm-dd\n",
    "exp=re.compile(r\"(\\d{2})\\.(\\d{2})\\.(\\d{4})\")\n",
    "text_sub = exp.sub(lambda match: f\"{match.group(3)}-{match.group(2)}-{match.group(1)}\", text)\n",
    "text_sub"
   ]
  },
  {
   "cell_type": "markdown",
   "metadata": {},
   "source": [
    "**Look-behind and Look-ahead**"
   ]
  },
  {
   "cell_type": "code",
   "execution_count": 98,
   "metadata": {},
   "outputs": [],
   "source": [
    "# Look-behind: ?<   negative: ?<!\n",
    "# Look-ahead: ?=    negative: ?=!"
   ]
  },
  {
   "cell_type": "code",
   "execution_count": 103,
   "metadata": {},
   "outputs": [],
   "source": [
    "# Check PW: at least one number, one letter, one special char and 6-12 long\n",
    "exp=re.compile(r\"^(?=.*[a-z])(?=.*\\d)(?=.*[^a-z\\d])\\S{6,12}$\")"
   ]
  },
  {
   "cell_type": "code",
   "execution_count": 106,
   "metadata": {},
   "outputs": [
    {
     "name": "stdout",
     "output_type": "stream",
     "text": [
      "None\n"
     ]
    }
   ],
   "source": [
    "# Invalid PW\n",
    "match=exp.search(\"password12\")\n",
    "print(match)"
   ]
  },
  {
   "cell_type": "code",
   "execution_count": 107,
   "metadata": {},
   "outputs": [
    {
     "name": "stdout",
     "output_type": "stream",
     "text": [
      "<re.Match object; span=(0, 11), match='password$12'>\n"
     ]
    }
   ],
   "source": [
    "# Valid PW\n",
    "match=exp.search(\"password$12\")\n",
    "print(match)"
   ]
  },
  {
   "cell_type": "code",
   "execution_count": null,
   "metadata": {},
   "outputs": [],
   "source": []
  }
 ],
 "metadata": {
  "kernelspec": {
   "display_name": "Python 3",
   "language": "python",
   "name": "python3"
  },
  "language_info": {
   "codemirror_mode": {
    "name": "ipython",
    "version": 3
   },
   "file_extension": ".py",
   "mimetype": "text/x-python",
   "name": "python",
   "nbconvert_exporter": "python",
   "pygments_lexer": "ipython3",
   "version": "3.7.6"
  }
 },
 "nbformat": 4,
 "nbformat_minor": 4
}
