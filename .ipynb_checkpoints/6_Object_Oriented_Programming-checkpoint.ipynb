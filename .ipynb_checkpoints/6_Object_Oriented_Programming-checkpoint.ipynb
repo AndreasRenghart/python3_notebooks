{
 "cells": [
  {
   "cell_type": "markdown",
   "metadata": {},
   "source": [
    "# Object Oriented Programming"
   ]
  },
  {
   "cell_type": "markdown",
   "metadata": {},
   "source": [
    "### 1. Inheritance"
   ]
  },
  {
   "cell_type": "code",
   "execution_count": 3,
   "metadata": {},
   "outputs": [],
   "source": [
    "# Class Random Generator\n",
    "import random\n",
    "\n",
    "class RandGen:\n",
    "    \n",
    "    def __init__(self):\n",
    "        pass\n",
    "    \n",
    "    def _get_rand(self):\n",
    "        return random.random()\n",
    "        \n",
    "    def __iter__(self):\n",
    "        return self \n",
    "    \n",
    "    def __next__(self):\n",
    "        return self._get_rand()"
   ]
  },
  {
   "cell_type": "code",
   "execution_count": 5,
   "metadata": {},
   "outputs": [
    {
     "data": {
      "text/plain": [
       "0.21945456534004404"
      ]
     },
     "execution_count": 5,
     "metadata": {},
     "output_type": "execute_result"
    }
   ],
   "source": [
    "rand_num = RandGen()\n",
    "next(rand_num)"
   ]
  },
  {
   "cell_type": "code",
   "execution_count": 6,
   "metadata": {},
   "outputs": [],
   "source": [
    "# Random Integer Generator: Inherit from RandGen\n",
    "class RandIntGen(RandGen):\n",
    "    \n",
    "    def __init__(self, min, max):\n",
    "        super() # init super class\n",
    "        self.min = min\n",
    "        self.max = max\n",
    "        \n",
    "    def _get_rand(self): # Overwrite base method\n",
    "        return random.randint(self.min, self.max)"
   ]
  },
  {
   "cell_type": "code",
   "execution_count": 7,
   "metadata": {},
   "outputs": [
    {
     "data": {
      "text/plain": [
       "3"
      ]
     },
     "execution_count": 7,
     "metadata": {},
     "output_type": "execute_result"
    }
   ],
   "source": [
    "rand_int = RandIntGen(0, 10)\n",
    "next(rand_int)"
   ]
  },
  {
   "cell_type": "code",
   "execution_count": 10,
   "metadata": {},
   "outputs": [
    {
     "name": "stdout",
     "output_type": "stream",
     "text": [
      "True\n"
     ]
    }
   ],
   "source": [
    "print(isinstance(rand_int, RandGen)) # rand_int is also instance of RandGen"
   ]
  },
  {
   "cell_type": "code",
   "execution_count": 11,
   "metadata": {},
   "outputs": [
    {
     "name": "stdout",
     "output_type": "stream",
     "text": [
      "True\n"
     ]
    }
   ],
   "source": [
    "print(isinstance(rand_int, RandIntGen))"
   ]
  },
  {
   "cell_type": "markdown",
   "metadata": {},
   "source": [
    "### 2. Properties"
   ]
  },
  {
   "cell_type": "markdown",
   "metadata": {},
   "source": [
    "A \"Property\" is used just like a variable, but isn’t stored as such on the instance, but its value is retrieved and updated using getter and setter methods."
   ]
  },
  {
   "cell_type": "code",
   "execution_count": 13,
   "metadata": {},
   "outputs": [],
   "source": [
    "class Temperature:\n",
    "    \n",
    "    def __init__(self):\n",
    "        self.celsius = 0\n",
    "\n",
    "    @property\n",
    "    def celsius(self): # getter\n",
    "        return self._celsius\n",
    "\n",
    "    @property\n",
    "    def fahrenheit(self): #getter\n",
    "        return self._fahrenheit\n",
    "\n",
    "    @celsius.setter #setter\n",
    "    def celsius(self, val):\n",
    "        self._celsius = val\n",
    "        self._fahrenheit = 1.8 * self._celsius + 32\n",
    "\n",
    "    @fahrenheit.setter #setter\n",
    "    def fahrenheit(self, val):\n",
    "        self._fahrenheit = val\n",
    "        self._celsius = (self._fahrenheit - 32) / 1.8\n"
   ]
  },
  {
   "cell_type": "code",
   "execution_count": 15,
   "metadata": {},
   "outputs": [
    {
     "data": {
      "text/plain": [
       "0"
      ]
     },
     "execution_count": 15,
     "metadata": {},
     "output_type": "execute_result"
    }
   ],
   "source": [
    "temp = Temperature()\n",
    "temp.celsius"
   ]
  },
  {
   "cell_type": "code",
   "execution_count": 16,
   "metadata": {},
   "outputs": [
    {
     "data": {
      "text/plain": [
       "32.0"
      ]
     },
     "execution_count": 16,
     "metadata": {},
     "output_type": "execute_result"
    }
   ],
   "source": [
    "temp.fahrenheit"
   ]
  },
  {
   "cell_type": "code",
   "execution_count": 17,
   "metadata": {},
   "outputs": [],
   "source": [
    "temp.celsius = 20"
   ]
  },
  {
   "cell_type": "code",
   "execution_count": 18,
   "metadata": {},
   "outputs": [
    {
     "data": {
      "text/plain": [
       "68.0"
      ]
     },
     "execution_count": 18,
     "metadata": {},
     "output_type": "execute_result"
    }
   ],
   "source": [
    "temp.fahrenheit"
   ]
  },
  {
   "cell_type": "markdown",
   "metadata": {},
   "source": [
    "### 3. Dunder Methods"
   ]
  },
  {
   "cell_type": "markdown",
   "metadata": {},
   "source": [
    "**Make class instance callable with \\_\\_call\\_\\_**"
   ]
  },
  {
   "cell_type": "code",
   "execution_count": 22,
   "metadata": {},
   "outputs": [
    {
     "name": "stdout",
     "output_type": "stream",
     "text": [
      "5 4 3 2 1 0 "
     ]
    }
   ],
   "source": [
    "import time\n",
    "\n",
    "class Countdown:\n",
    "\n",
    "    def __init__(self, start=3):\n",
    "        self.start = start\n",
    "\n",
    "    def __call__(self):\n",
    "        for i in reversed(range(self.start+1)):\n",
    "            print(i, end=\" \")\n",
    "            time.sleep(1)\n",
    "\n",
    "count = Countdown(start=5)\n",
    "count()"
   ]
  },
  {
   "cell_type": "markdown",
   "metadata": {},
   "source": [
    "**Make class instance comparable/ sortable**"
   ]
  },
  {
   "cell_type": "code",
   "execution_count": 39,
   "metadata": {},
   "outputs": [],
   "source": [
    "# Simple Point class\n",
    "import math \n",
    "\n",
    "class Point:\n",
    "    \n",
    "    def __init__(self, x, y):\n",
    "        self.x = x\n",
    "        self.y = y\n",
    "        \n",
    "    def length(self):\n",
    "        return math.sqrt(self.x**2 + self.y**2)\n",
    "    \n",
    "    def __repr__(self):\n",
    "        return f\"Point: ({self.x}, {self.y})\"\n",
    "\n",
    "p = Point(1,1)\n",
    "q = Point(1,1)"
   ]
  },
  {
   "cell_type": "code",
   "execution_count": 40,
   "metadata": {},
   "outputs": [
    {
     "data": {
      "text/plain": [
       "False"
      ]
     },
     "execution_count": 40,
     "metadata": {},
     "output_type": "execute_result"
    }
   ],
   "source": [
    "# p and q not identical (two objects)\n",
    "p is q"
   ]
  },
  {
   "cell_type": "code",
   "execution_count": 41,
   "metadata": {},
   "outputs": [
    {
     "data": {
      "text/plain": [
       "False"
      ]
     },
     "execution_count": 41,
     "metadata": {},
     "output_type": "execute_result"
    }
   ],
   "source": [
    "# p and q should be equal\n",
    "p==q"
   ]
  },
  {
   "cell_type": "code",
   "execution_count": 42,
   "metadata": {},
   "outputs": [
    {
     "data": {
      "text/plain": [
       "True"
      ]
     },
     "execution_count": 42,
     "metadata": {},
     "output_type": "execute_result"
    }
   ],
   "source": [
    "# Need to implement dunder method __eq__\n",
    "\n",
    "class Point:\n",
    "    \n",
    "    def __init__(self, x, y):\n",
    "        self.x = x\n",
    "        self.y = y\n",
    "        \n",
    "    def length(self):\n",
    "        return math.sqrt(self.x**2 + self.y**2)\n",
    "    \n",
    "    def __repr__(self):\n",
    "        return f\"Point: ({self.x}, {self.y})\"\n",
    "    \n",
    "    def __eq__(self, other):\n",
    "        return self.x==other.x and self.y==other.y\n",
    "\n",
    "p = Point(1,1)\n",
    "q = Point(1,1)\n",
    "\n",
    "p==q"
   ]
  },
  {
   "cell_type": "code",
   "execution_count": 43,
   "metadata": {},
   "outputs": [
    {
     "ename": "TypeError",
     "evalue": "'<' not supported between instances of 'Point' and 'Point'",
     "output_type": "error",
     "traceback": [
      "\u001b[0;31m---------------------------------------------------------------------------\u001b[0m",
      "\u001b[0;31mTypeError\u001b[0m                                 Traceback (most recent call last)",
      "\u001b[0;32m<ipython-input-43-b84766e9d286>\u001b[0m in \u001b[0;36m<module>\u001b[0;34m\u001b[0m\n\u001b[1;32m      1\u001b[0m \u001b[0;31m# Try to sort list of points\u001b[0m\u001b[0;34m\u001b[0m\u001b[0;34m\u001b[0m\u001b[0;34m\u001b[0m\u001b[0m\n\u001b[1;32m      2\u001b[0m \u001b[0mpoints\u001b[0m \u001b[0;34m=\u001b[0m \u001b[0;34m[\u001b[0m\u001b[0mPoint\u001b[0m\u001b[0;34m(\u001b[0m\u001b[0;36m1\u001b[0m\u001b[0;34m,\u001b[0m\u001b[0;36m1\u001b[0m\u001b[0;34m)\u001b[0m\u001b[0;34m,\u001b[0m \u001b[0mPoint\u001b[0m\u001b[0;34m(\u001b[0m\u001b[0;36m2\u001b[0m\u001b[0;34m,\u001b[0m\u001b[0;36m0\u001b[0m\u001b[0;34m)\u001b[0m\u001b[0;34m,\u001b[0m \u001b[0mPoint\u001b[0m\u001b[0;34m(\u001b[0m\u001b[0;36m2\u001b[0m\u001b[0;34m,\u001b[0m\u001b[0;36m2\u001b[0m\u001b[0;34m)\u001b[0m\u001b[0;34m]\u001b[0m\u001b[0;34m\u001b[0m\u001b[0;34m\u001b[0m\u001b[0m\n\u001b[0;32m----> 3\u001b[0;31m \u001b[0msorted\u001b[0m\u001b[0;34m(\u001b[0m\u001b[0mpoints\u001b[0m\u001b[0;34m)\u001b[0m\u001b[0;34m\u001b[0m\u001b[0;34m\u001b[0m\u001b[0m\n\u001b[0m",
      "\u001b[0;31mTypeError\u001b[0m: '<' not supported between instances of 'Point' and 'Point'"
     ]
    }
   ],
   "source": [
    "# Try to sort list of points\n",
    "points = [Point(1,1), Point(2,0), Point(2,2)]\n",
    "sorted(points)"
   ]
  },
  {
   "cell_type": "code",
   "execution_count": 45,
   "metadata": {},
   "outputs": [
    {
     "data": {
      "text/plain": [
       "[Point: (1, 0), Point: (2, 1), Point: (2, 2)]"
      ]
     },
     "execution_count": 45,
     "metadata": {},
     "output_type": "execute_result"
    }
   ],
   "source": [
    "# Need to implement various dunder methods __lt__, __gt__, ...\n",
    "# To simplify that, use functools total_ordering decorator\n",
    "from functools import total_ordering\n",
    "\n",
    "@total_ordering # With total_ordering its enough to implement __eq__ and __lt__\n",
    "class Point:\n",
    "    \n",
    "    def __init__(self, x, y):\n",
    "        self.x = x\n",
    "        self.y = y\n",
    "        \n",
    "    def length(self):\n",
    "        return math.sqrt(self.x**2 + self.y**2)\n",
    "    \n",
    "    def __repr__(self):\n",
    "        return f\"Point: ({self.x}, {self.y})\"\n",
    "    \n",
    "    def __eq__(self, other):\n",
    "        return self.x==other.x and self.y==other.y\n",
    "    \n",
    "    def __lt__(self, other):\n",
    "        return self.length() < other.length()\n",
    "    \n",
    "\n",
    "points = [Point(2,1), Point(1,0), Point(2,2)]\n",
    "sorted(points)"
   ]
  },
  {
   "cell_type": "markdown",
   "metadata": {},
   "source": [
    "**Context Manager**"
   ]
  },
  {
   "cell_type": "code",
   "execution_count": 59,
   "metadata": {},
   "outputs": [],
   "source": [
    "# Implement class with __enter__ and __exit__\n",
    "\n",
    "import random\n",
    "\n",
    "class ContextMgr:\n",
    "    \n",
    "    def __init__(self, v):\n",
    "        self.v = v\n",
    "        print(f\"Instantiation with list={v}\")\n",
    "        \n",
    "    def __enter__(self):\n",
    "        print(f\"Enter Context and provide param={self.v}\")\n",
    "        return self.v\n",
    "    \n",
    "    def __exit__(self, exc_type, exc_val, exc_tb):\n",
    "        if not exc_type:\n",
    "             print(f\"Exit Context without error\")\n",
    "        else:\n",
    "             print(f\"Exit Context with error: exc_type={exc_type}, exc_val={exc_val} and exc_tb={exc_tb}\")\n",
    "        return True # return true so no exception is raised"
   ]
  },
  {
   "cell_type": "code",
   "execution_count": 60,
   "metadata": {},
   "outputs": [
    {
     "name": "stdout",
     "output_type": "stream",
     "text": [
      "Instantiation with list=[1, 2, 3]\n",
      "Enter Context and provide param=[1, 2, 3]\n",
      "Inside with statement\n",
      "Exit Context without error\n",
      "[1, 2, 3, 4]\n"
     ]
    }
   ],
   "source": [
    "# Context manager allows with statement...\n",
    "\n",
    "ctx = ContextMgr([1,2,3])\n",
    "\n",
    "with ctx as (v): # n refers to what is returned by __enter__\n",
    "    print(\"Inside with statement\")\n",
    "    v.append(4)\n",
    "    \n",
    "    \n",
    "print(ctx.v)"
   ]
  },
  {
   "cell_type": "code",
   "execution_count": 61,
   "metadata": {},
   "outputs": [
    {
     "name": "stdout",
     "output_type": "stream",
     "text": [
      "Instantiation with list=[1, 2, 3]\n",
      "Enter Context and provide param=[1, 2, 3]\n",
      "Inside with statement\n",
      "Exit Context with error: exc_type=<class 'IndexError'>, exc_val=list index out of range and exc_tb=<traceback object at 0x109bad190>\n",
      "[1, 2, 3]\n"
     ]
    }
   ],
   "source": [
    "# In case of exception inside with block\n",
    "ctx = ContextMgr([1,2,3])\n",
    "\n",
    "with ctx as (v): # n refers to what is returned by __enter__\n",
    "    print(\"Inside with statement\")\n",
    "    print(v[5])\n",
    "    \n",
    "    \n",
    "print(ctx.v)"
   ]
  },
  {
   "cell_type": "code",
   "execution_count": null,
   "metadata": {},
   "outputs": [],
   "source": []
  }
 ],
 "metadata": {
  "kernelspec": {
   "display_name": "Python 3",
   "language": "python",
   "name": "python3"
  },
  "language_info": {
   "codemirror_mode": {
    "name": "ipython",
    "version": 3
   },
   "file_extension": ".py",
   "mimetype": "text/x-python",
   "name": "python",
   "nbconvert_exporter": "python",
   "pygments_lexer": "ipython3",
   "version": "3.7.6"
  }
 },
 "nbformat": 4,
 "nbformat_minor": 4
}
