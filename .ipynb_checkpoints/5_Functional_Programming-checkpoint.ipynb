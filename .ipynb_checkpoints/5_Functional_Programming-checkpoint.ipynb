{
 "cells": [
  {
   "cell_type": "markdown",
   "metadata": {},
   "source": [
    "# Functional Programming"
   ]
  },
  {
   "cell_type": "markdown",
   "metadata": {},
   "source": [
    "### 1. Functions as first class citizens"
   ]
  },
  {
   "cell_type": "code",
   "execution_count": 4,
   "metadata": {},
   "outputs": [],
   "source": [
    "# Function that takes other function as argument and returns a function\n",
    "def with_logging(f):\n",
    "    print(f\"Function executed: {f.__name__}\")\n",
    "    return f"
   ]
  },
  {
   "cell_type": "code",
   "execution_count": 6,
   "metadata": {},
   "outputs": [
    {
     "name": "stdout",
     "output_type": "stream",
     "text": [
      "Function executed: add\n"
     ]
    },
    {
     "data": {
      "text/plain": [
       "4"
      ]
     },
     "execution_count": 6,
     "metadata": {},
     "output_type": "execute_result"
    }
   ],
   "source": [
    "def add(x,y):\n",
    "    return x+y\n",
    "\n",
    "sum_with_logging = with_logging(add)\n",
    "sum_with_logging(2,2)"
   ]
  },
  {
   "cell_type": "markdown",
   "metadata": {},
   "source": [
    "### 2. Decorators"
   ]
  },
  {
   "cell_type": "code",
   "execution_count": 8,
   "metadata": {},
   "outputs": [
    {
     "name": "stdout",
     "output_type": "stream",
     "text": [
      "Function executed: add\n"
     ]
    },
    {
     "data": {
      "text/plain": [
       "4"
      ]
     },
     "execution_count": 8,
     "metadata": {},
     "output_type": "execute_result"
    }
   ],
   "source": [
    "# Use higher order function as decorator\n",
    "@with_logging\n",
    "def add(x,y):\n",
    "    return x+y\n",
    "\n",
    "add(2,2)"
   ]
  },
  {
   "cell_type": "code",
   "execution_count": 9,
   "metadata": {},
   "outputs": [
    {
     "name": "stdout",
     "output_type": "stream",
     "text": [
      "Function executed: add with positional arguments (2, 2) and keyword arguments {}\n"
     ]
    },
    {
     "data": {
      "text/plain": [
       "4"
      ]
     },
     "execution_count": 9,
     "metadata": {},
     "output_type": "execute_result"
    }
   ],
   "source": [
    "# Access function arguments in decorator: use of wrapper function\n",
    "def with_logging(f):\n",
    "    def wrapper(*args, **kwargs):\n",
    "        print(f\"Function executed: {f.__name__} with positional arguments {args} and keyword arguments {kwargs}\")\n",
    "        return f(*args, **kwargs)\n",
    "    return wrapper\n",
    "\n",
    "@with_logging\n",
    "def add(x,y):\n",
    "    return x+y\n",
    "\n",
    "add(2,2)"
   ]
  },
  {
   "cell_type": "code",
   "execution_count": 32,
   "metadata": {},
   "outputs": [
    {
     "data": {
      "text/plain": [
       "'wrapper'"
      ]
     },
     "execution_count": 32,
     "metadata": {},
     "output_type": "execute_result"
    }
   ],
   "source": [
    "# Problem: function metadata not automatically copied over to wrapper function\n",
    "add.__name__"
   ]
  },
  {
   "cell_type": "code",
   "execution_count": 34,
   "metadata": {},
   "outputs": [
    {
     "data": {
      "text/plain": [
       "'add'"
      ]
     },
     "execution_count": 34,
     "metadata": {},
     "output_type": "execute_result"
    }
   ],
   "source": [
    "# Solution: functools.wraps() decorator\n",
    "from functools import wraps\n",
    "\n",
    "def with_logging(f):\n",
    "    @wraps(f)\n",
    "    def wrapper(*args, **kwargs):\n",
    "        print(f\"Function executed: {f.__name__} with positional arguments {args} and keyword arguments {kwargs}\")\n",
    "        return f(*args, **kwargs)\n",
    "    return wrapper\n",
    "\n",
    "@with_logging\n",
    "def add(x,y):\n",
    "    return x+y\n",
    "\n",
    "add.__name__"
   ]
  },
  {
   "cell_type": "markdown",
   "metadata": {},
   "source": [
    "**Decorator Factory**"
   ]
  },
  {
   "cell_type": "code",
   "execution_count": 25,
   "metadata": {},
   "outputs": [],
   "source": [
    "# Decorator Factory\n",
    "def with_logging(verbose=False): # Factory function\n",
    "    def logging_decorator(f): # Decorator\n",
    "        def wrapper(*args, **kwargs):\n",
    "            log_args = f\" with positional arguments {args} and keyword arguments {kwargs}\"\n",
    "            print(f\"Function executed: {f.__name__}\" + (log_args if verbose else \"\"))\n",
    "            return f(*args, **kwargs)\n",
    "        return wrapper\n",
    "    return logging_decorator"
   ]
  },
  {
   "cell_type": "code",
   "execution_count": 26,
   "metadata": {},
   "outputs": [
    {
     "name": "stdout",
     "output_type": "stream",
     "text": [
      "Function executed: add\n"
     ]
    },
    {
     "data": {
      "text/plain": [
       "4"
      ]
     },
     "execution_count": 26,
     "metadata": {},
     "output_type": "execute_result"
    }
   ],
   "source": [
    "@with_logging()\n",
    "def add(x,y):\n",
    "    return x+y\n",
    "\n",
    "add(2,2)"
   ]
  },
  {
   "cell_type": "code",
   "execution_count": 27,
   "metadata": {},
   "outputs": [
    {
     "name": "stdout",
     "output_type": "stream",
     "text": [
      "Function executed: add with positional arguments (2, 2) and keyword arguments {}\n"
     ]
    },
    {
     "data": {
      "text/plain": [
       "4"
      ]
     },
     "execution_count": 27,
     "metadata": {},
     "output_type": "execute_result"
    }
   ],
   "source": [
    "@with_logging(verbose=True)\n",
    "def add(x,y):\n",
    "    return x+y\n",
    "\n",
    "add(2,2)"
   ]
  },
  {
   "cell_type": "markdown",
   "metadata": {},
   "source": [
    "### 3. Closures"
   ]
  },
  {
   "cell_type": "code",
   "execution_count": 37,
   "metadata": {},
   "outputs": [
    {
     "name": "stdout",
     "output_type": "stream",
     "text": [
      "Function executed: add. Total number of executions: 1\n"
     ]
    },
    {
     "data": {
      "text/plain": [
       "4"
      ]
     },
     "execution_count": 37,
     "metadata": {},
     "output_type": "execute_result"
    }
   ],
   "source": [
    "# Store some data with a function\n",
    "# E.g. store how often a function was executed\n",
    "\n",
    "def with_logging(f):\n",
    "    num_exec = 0\n",
    "    def wrapper(*args, **kwargs):\n",
    "        nonlocal num_exec # Use variable from outer scope (factory scope) to store data with wrapper function accross function calls \n",
    "        num_exec+=1\n",
    "        print(f\"Function executed: {f.__name__}. Total number of executions: {num_exec}\")\n",
    "        return f(*args, **kwargs)\n",
    "    return wrapper\n",
    "\n",
    "@with_logging\n",
    "def add(x,y):\n",
    "    return x+y\n",
    "\n",
    "add(2,2)"
   ]
  },
  {
   "cell_type": "code",
   "execution_count": 38,
   "metadata": {},
   "outputs": [
    {
     "name": "stdout",
     "output_type": "stream",
     "text": [
      "Function executed: add. Total number of executions: 2\n"
     ]
    },
    {
     "data": {
      "text/plain": [
       "6"
      ]
     },
     "execution_count": 38,
     "metadata": {},
     "output_type": "execute_result"
    }
   ],
   "source": [
    "add(3,3)"
   ]
  },
  {
   "cell_type": "code",
   "execution_count": null,
   "metadata": {},
   "outputs": [],
   "source": []
  }
 ],
 "metadata": {
  "kernelspec": {
   "display_name": "Python 3",
   "language": "python",
   "name": "python3"
  },
  "language_info": {
   "codemirror_mode": {
    "name": "ipython",
    "version": 3
   },
   "file_extension": ".py",
   "mimetype": "text/x-python",
   "name": "python",
   "nbconvert_exporter": "python",
   "pygments_lexer": "ipython3",
   "version": "3.7.6"
  }
 },
 "nbformat": 4,
 "nbformat_minor": 4
}
