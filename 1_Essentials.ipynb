{
 "cells": [
  {
   "cell_type": "markdown",
   "metadata": {},
   "source": [
    "# Python Essentials"
   ]
  },
  {
   "cell_type": "markdown",
   "metadata": {},
   "source": [
    "### 1. Working with Strings"
   ]
  },
  {
   "cell_type": "code",
   "execution_count": 1,
   "metadata": {},
   "outputs": [
    {
     "data": {
      "text/plain": [
       "\"Let's start\""
      ]
     },
     "execution_count": 1,
     "metadata": {},
     "output_type": "execute_result"
    }
   ],
   "source": [
    "message = \"Let's start\"\n",
    "message"
   ]
  },
  {
   "cell_type": "markdown",
   "metadata": {},
   "source": [
    "**Escaping special characters**"
   ]
  },
  {
   "cell_type": "code",
   "execution_count": 2,
   "metadata": {},
   "outputs": [
    {
     "ename": "SyntaxError",
     "evalue": "invalid syntax (<ipython-input-2-68d28fc6b840>, line 2)",
     "output_type": "error",
     "traceback": [
      "\u001b[0;36m  File \u001b[0;32m\"<ipython-input-2-68d28fc6b840>\"\u001b[0;36m, line \u001b[0;32m2\u001b[0m\n\u001b[0;31m    message = 'Let's start'\u001b[0m\n\u001b[0m                   ^\u001b[0m\n\u001b[0;31mSyntaxError\u001b[0m\u001b[0;31m:\u001b[0m invalid syntax\n"
     ]
    }
   ],
   "source": [
    "# single quotation mark within single quotation marks\n",
    "message = 'Let's start'"
   ]
  },
  {
   "cell_type": "code",
   "execution_count": 3,
   "metadata": {},
   "outputs": [
    {
     "data": {
      "text/plain": [
       "\"Let's start\""
      ]
     },
     "execution_count": 3,
     "metadata": {},
     "output_type": "execute_result"
    }
   ],
   "source": [
    "# Escaping\n",
    "message = 'Let\\'s start'\n",
    "message"
   ]
  },
  {
   "cell_type": "code",
   "execution_count": 4,
   "metadata": {},
   "outputs": [
    {
     "name": "stdout",
     "output_type": "stream",
     "text": [
      "Let's start.\n",
      "Hello World!\n"
     ]
    }
   ],
   "source": [
    "# New Line with \\n\n",
    "message = 'Let\\'s start.\\nHello World!'\n",
    "print(message)"
   ]
  },
  {
   "cell_type": "code",
   "execution_count": 5,
   "metadata": {},
   "outputs": [
    {
     "name": "stdout",
     "output_type": "stream",
     "text": [
      "Let's start\n",
      "Hello World!\n"
     ]
    }
   ],
   "source": [
    "# Multiline String\n",
    "message = (\"Let's start\\n\"\n",
    "           \"Hello World!\")\n",
    "print(message)"
   ]
  },
  {
   "cell_type": "code",
   "execution_count": 6,
   "metadata": {},
   "outputs": [
    {
     "name": "stdout",
     "output_type": "stream",
     "text": [
      "Hello World ©\n"
     ]
    }
   ],
   "source": [
    "# UTF characters\n",
    "message = \"Hello World \\u00A9\"\n",
    "print(message)"
   ]
  },
  {
   "cell_type": "markdown",
   "metadata": {},
   "source": [
    "**Raw Strings (without escaping)**"
   ]
  },
  {
   "cell_type": "code",
   "execution_count": 7,
   "metadata": {},
   "outputs": [
    {
     "name": "stdout",
     "output_type": "stream",
     "text": [
      "\\bWorld\\b\n"
     ]
    }
   ],
   "source": [
    "# Dont escape, literal backslash\n",
    "message = \"\\\\bWorld\\\\b\"\n",
    "print(message)"
   ]
  },
  {
   "cell_type": "code",
   "execution_count": 8,
   "metadata": {},
   "outputs": [
    {
     "name": "stdout",
     "output_type": "stream",
     "text": [
      "\\bWorld\\b\n"
     ]
    }
   ],
   "source": [
    "# Raw strings -> no escaping\n",
    "message = r\"\\bWorld\\b\"\n",
    "print(message)"
   ]
  },
  {
   "cell_type": "markdown",
   "metadata": {},
   "source": [
    "**Format Strings**"
   ]
  },
  {
   "cell_type": "code",
   "execution_count": 9,
   "metadata": {},
   "outputs": [
    {
     "data": {
      "text/plain": [
       "'Hello World!'"
      ]
     },
     "execution_count": 9,
     "metadata": {},
     "output_type": "execute_result"
    }
   ],
   "source": [
    "# Format strings\n",
    "name = \"World\"\n",
    "message = f\"Hello {name}!\"\n",
    "message"
   ]
  },
  {
   "cell_type": "markdown",
   "metadata": {},
   "source": [
    "### 2. Numbers"
   ]
  },
  {
   "cell_type": "code",
   "execution_count": 10,
   "metadata": {},
   "outputs": [
    {
     "data": {
      "text/plain": [
       "4"
      ]
     },
     "execution_count": 10,
     "metadata": {},
     "output_type": "execute_result"
    }
   ],
   "source": [
    "x = 2\n",
    "x *= 2\n",
    "x"
   ]
  },
  {
   "cell_type": "code",
   "execution_count": 11,
   "metadata": {},
   "outputs": [
    {
     "data": {
      "text/plain": [
       "3.0"
      ]
     },
     "execution_count": 11,
     "metadata": {},
     "output_type": "execute_result"
    }
   ],
   "source": [
    "import math\n",
    "math.sqrt(9)"
   ]
  },
  {
   "cell_type": "markdown",
   "metadata": {},
   "source": [
    "**Decimals for precise decimal calculations**"
   ]
  },
  {
   "cell_type": "code",
   "execution_count": 12,
   "metadata": {},
   "outputs": [
    {
     "name": "stdout",
     "output_type": "stream",
     "text": [
      "0.04\n"
     ]
    }
   ],
   "source": [
    "from decimal import Decimal\n",
    "\n",
    "interest_rate = Decimal(0.01)\n",
    "amount = Decimal(3.59)\n",
    "\n",
    "interest_paid = (interest_rate * amount).quantize(Decimal(\"0.01\"))\n",
    "print(interest_paid)"
   ]
  },
  {
   "cell_type": "markdown",
   "metadata": {},
   "source": [
    "### 2. Datetimes"
   ]
  },
  {
   "cell_type": "code",
   "execution_count": 13,
   "metadata": {},
   "outputs": [
    {
     "name": "stdout",
     "output_type": "stream",
     "text": [
      "2020-06-27 18:11:47.182886\n"
     ]
    }
   ],
   "source": [
    "import datetime as dt\n",
    "\n",
    "now = dt.datetime.today()\n",
    "print(now)"
   ]
  },
  {
   "cell_type": "code",
   "execution_count": 14,
   "metadata": {},
   "outputs": [
    {
     "name": "stdout",
     "output_type": "stream",
     "text": [
      "2020-06-27\n"
     ]
    }
   ],
   "source": [
    "print(now.date())"
   ]
  },
  {
   "cell_type": "code",
   "execution_count": 15,
   "metadata": {},
   "outputs": [
    {
     "name": "stdout",
     "output_type": "stream",
     "text": [
      "18:11:47.182886\n"
     ]
    }
   ],
   "source": [
    "print(now.time())"
   ]
  },
  {
   "cell_type": "markdown",
   "metadata": {},
   "source": [
    "**Dateutil Module**"
   ]
  },
  {
   "cell_type": "code",
   "execution_count": 16,
   "metadata": {},
   "outputs": [
    {
     "data": {
      "text/plain": [
       "39"
      ]
     },
     "execution_count": 16,
     "metadata": {},
     "output_type": "execute_result"
    }
   ],
   "source": [
    "# Date Delta with \"python-dateutil\"\n",
    "\n",
    "from dateutil.relativedelta import relativedelta\n",
    "\n",
    "birthday = dt.date(1980,12,12)\n",
    "age = relativedelta(now.date(), birthday).years\n",
    "age"
   ]
  },
  {
   "cell_type": "code",
   "execution_count": 17,
   "metadata": {},
   "outputs": [
    {
     "name": "stdout",
     "output_type": "stream",
     "text": [
      "2020-01-03 00:00:00\n"
     ]
    }
   ],
   "source": [
    "# Parse Dates\n",
    "\n",
    "from dateutil.parser import parse\n",
    "\n",
    "meeting_date = parse(\"The meeting is scheduled for 3rd of January 2020\", fuzzy = True)\n",
    "print(meeting_date)"
   ]
  },
  {
   "cell_type": "markdown",
   "metadata": {},
   "source": [
    "### 3. Conditions"
   ]
  },
  {
   "cell_type": "code",
   "execution_count": 1,
   "metadata": {},
   "outputs": [
    {
     "name": "stdin",
     "output_type": "stream",
     "text": [
      "Guess the secret number:  12\n"
     ]
    },
    {
     "name": "stdout",
     "output_type": "stream",
     "text": [
      "Your number is too low!\n"
     ]
    }
   ],
   "source": [
    "secret_number = 13\n",
    "\n",
    "text_input = input(\"Guess the secret number: \")\n",
    "\n",
    "if text_input.isdigit():\n",
    "    n = int(text_input)\n",
    "    if n == secret_number:\n",
    "        print(\"You got it!\")\n",
    "    elif n < secret_number:\n",
    "        print(\"Your number is too low!\")\n",
    "    else:\n",
    "        print(\"Your number is too high!\")\n",
    "else:\n",
    "    print(\"You have to guess an integer greater equal 0!\")"
   ]
  },
  {
   "cell_type": "code",
   "execution_count": 2,
   "metadata": {},
   "outputs": [
    {
     "data": {
      "text/plain": [
       "'You got it'"
      ]
     },
     "execution_count": 2,
     "metadata": {},
     "output_type": "execute_result"
    }
   ],
   "source": [
    "# Condition in one line\n",
    "\"You got it\" if secret_number==13 else \"You missed it\""
   ]
  },
  {
   "cell_type": "markdown",
   "metadata": {},
   "source": [
    "### 4. Loops"
   ]
  },
  {
   "cell_type": "markdown",
   "metadata": {},
   "source": [
    "**While**"
   ]
  },
  {
   "cell_type": "code",
   "execution_count": 21,
   "metadata": {},
   "outputs": [
    {
     "name": "stdin",
     "output_type": "stream",
     "text": [
      "Guess the secret number:  12\n"
     ]
    },
    {
     "name": "stdout",
     "output_type": "stream",
     "text": [
      "Your number is too low!\n"
     ]
    },
    {
     "name": "stdin",
     "output_type": "stream",
     "text": [
      "Guess the secret number:  13\n"
     ]
    },
    {
     "name": "stdout",
     "output_type": "stream",
     "text": [
      "You got it!\n"
     ]
    }
   ],
   "source": [
    "# while loop\n",
    "secret_number = 13\n",
    "\n",
    "while True:\n",
    "    text_input = input(\"Guess the secret number: \")\n",
    "\n",
    "    if not text_input.isdigit():\n",
    "        print(\"You have to guess an integer greater equal 0!\")\n",
    "        continue\n",
    "        \n",
    "    n = int(text_input)\n",
    "    if n == secret_number:\n",
    "        print(\"You got it!\")\n",
    "        break\n",
    "    elif n < secret_number:\n",
    "        print(\"Your number is too low!\")\n",
    "    else:\n",
    "        print(\"Your number is too high!\")     "
   ]
  },
  {
   "cell_type": "markdown",
   "metadata": {},
   "source": [
    "**For**"
   ]
  },
  {
   "cell_type": "code",
   "execution_count": 62,
   "metadata": {},
   "outputs": [
    {
     "name": "stdout",
     "output_type": "stream",
     "text": [
      "1\n",
      "3\n",
      "5\n",
      "7\n",
      "9\n"
     ]
    }
   ],
   "source": [
    "# for over range\n",
    "for i in range(1, 11, 2):\n",
    "    print(i)"
   ]
  },
  {
   "cell_type": "code",
   "execution_count": 63,
   "metadata": {},
   "outputs": [
    {
     "name": "stdout",
     "output_type": "stream",
     "text": [
      "(0, 0)\n",
      "(2, 3)\n",
      "(4, 4)\n"
     ]
    }
   ],
   "source": [
    "# for over array\n",
    "points = [(0,0), (2,3), (4,4)]\n",
    "\n",
    "for point in points:\n",
    "    print(point)"
   ]
  },
  {
   "cell_type": "code",
   "execution_count": 65,
   "metadata": {},
   "outputs": [
    {
     "name": "stdout",
     "output_type": "stream",
     "text": [
      "point 1: x=0, y=0\n",
      "point 2: x=2, y=3\n",
      "point 3: x=4, y=4\n"
     ]
    }
   ],
   "source": [
    "# enumerate and unpacking\n",
    "for index, (x, y) in enumerate(points):\n",
    "    print(f\"point {index+1}: x={x}, y={y}\")"
   ]
  },
  {
   "cell_type": "markdown",
   "metadata": {},
   "source": [
    "### 5. Functions"
   ]
  },
  {
   "cell_type": "code",
   "execution_count": 70,
   "metadata": {},
   "outputs": [
    {
     "name": "stdout",
     "output_type": "stream",
     "text": [
      "[(0, 0), (-1, 1), (-2, 1), (-1, 2), (-2, 3), (-2, 2), (-2, 1), (-1, 0), (-1, 1), (-1, 2), (-2, 1)]\n"
     ]
    }
   ],
   "source": [
    "import random\n",
    "\n",
    "# Simple function\n",
    "def get_random_path(n):\n",
    "    path = [(0, 0)]\n",
    "    \n",
    "    for i in range(n):\n",
    "        dx = random.randint(-1, 1)\n",
    "        dy = random.randint(-1, 1)\n",
    "        path.append((path[-1][0]+dx, path[-1][1]+dy))\n",
    "        \n",
    "    return path\n",
    "\n",
    "# Called with positional argument\n",
    "print(get_random_path(10))"
   ]
  },
  {
   "cell_type": "markdown",
   "metadata": {},
   "source": [
    "**Positional and keyword arguments**"
   ]
  },
  {
   "cell_type": "code",
   "execution_count": 71,
   "metadata": {},
   "outputs": [
    {
     "name": "stdout",
     "output_type": "stream",
     "text": [
      "[(0, 0), (0, -1), (-1, -1), (-1, 0), (0, 1), (1, 0), (1, 1), (0, 0), (0, 1), (1, 2), (1, 2)]\n"
     ]
    }
   ],
   "source": [
    "# Called with keyword argument\n",
    "print(get_random_path(n=10))"
   ]
  },
  {
   "cell_type": "code",
   "execution_count": 73,
   "metadata": {},
   "outputs": [
    {
     "name": "stdout",
     "output_type": "stream",
     "text": [
      "[(0, 0), (-2, 3), (-3, 3), (-5, 6), (-6, 7), (-7, 8), (-9, 9), (-12, 6), (-14, 5), (-17, 2), (-19, -1)]\n"
     ]
    }
   ],
   "source": [
    "# Function with multiple arguments\n",
    "def get_random_path(n, move_min, move_max):\n",
    "    path = [(0, 0)]\n",
    "\n",
    "    for _ in range(n):\n",
    "        dx = random.randint(move_min, move_max)\n",
    "        dy = random.randint(move_min, move_max)\n",
    "        path.append((path[-1][0]+dx, path[-1][1]+dy))\n",
    "\n",
    "    return path\n",
    "\n",
    "print(get_random_path(n=10, move_min=-3, move_max=3))"
   ]
  },
  {
   "cell_type": "code",
   "execution_count": 74,
   "metadata": {},
   "outputs": [
    {
     "ename": "SyntaxError",
     "evalue": "positional argument follows keyword argument (<ipython-input-74-a973c444684b>, line 2)",
     "output_type": "error",
     "traceback": [
      "\u001b[0;36m  File \u001b[0;32m\"<ipython-input-74-a973c444684b>\"\u001b[0;36m, line \u001b[0;32m2\u001b[0m\n\u001b[0;31m    print(get_random_path(n=10, move_min=-1, 1))\u001b[0m\n\u001b[0m                                            ^\u001b[0m\n\u001b[0;31mSyntaxError\u001b[0m\u001b[0;31m:\u001b[0m positional argument follows keyword argument\n"
     ]
    }
   ],
   "source": [
    "# positional arguments not allowed after keyword arguments\n",
    "print(get_random_path(n=10, move_min=-1, 1))"
   ]
  },
  {
   "cell_type": "code",
   "execution_count": 76,
   "metadata": {},
   "outputs": [
    {
     "name": "stdout",
     "output_type": "stream",
     "text": [
      "[(0, 0), (1, 4), (8, -4), (0, -12), (-6, -20), (2, -27), (4, -25), (8, -23), (7, -13), (0, -16), (-8, -14)]\n"
     ]
    }
   ],
   "source": [
    "# Default arguments\n",
    "def get_random_path(n, move_min=-10, move_max=10):\n",
    "    path = [(0, 0)]\n",
    "\n",
    "    for _ in range(n):\n",
    "        dx = random.randint(move_min, move_max)\n",
    "        dy = random.randint(move_min, move_max)\n",
    "        path.append((path[-1][0]+dx, path[-1][1]+dy))\n",
    "\n",
    "    return path\n",
    "\n",
    "print(get_random_path(n=10))"
   ]
  },
  {
   "cell_type": "code",
   "execution_count": 77,
   "metadata": {},
   "outputs": [
    {
     "ename": "TypeError",
     "evalue": "get_random_path() takes 1 positional argument but 3 were given",
     "output_type": "error",
     "traceback": [
      "\u001b[0;31m---------------------------------------------------------------------------\u001b[0m",
      "\u001b[0;31mTypeError\u001b[0m                                 Traceback (most recent call last)",
      "\u001b[0;32m<ipython-input-77-432685e8d769>\u001b[0m in \u001b[0;36m<module>\u001b[0;34m\u001b[0m\n\u001b[1;32m     10\u001b[0m     \u001b[0;32mreturn\u001b[0m \u001b[0mpath\u001b[0m\u001b[0;34m\u001b[0m\u001b[0;34m\u001b[0m\u001b[0m\n\u001b[1;32m     11\u001b[0m \u001b[0;34m\u001b[0m\u001b[0m\n\u001b[0;32m---> 12\u001b[0;31m \u001b[0mprint\u001b[0m\u001b[0;34m(\u001b[0m\u001b[0mget_random_path\u001b[0m\u001b[0;34m(\u001b[0m\u001b[0;36m10\u001b[0m\u001b[0;34m,\u001b[0m \u001b[0;34m-\u001b[0m\u001b[0;36m5\u001b[0m\u001b[0;34m,\u001b[0m \u001b[0;36m5\u001b[0m\u001b[0;34m)\u001b[0m\u001b[0;34m)\u001b[0m\u001b[0;34m\u001b[0m\u001b[0;34m\u001b[0m\u001b[0m\n\u001b[0m",
      "\u001b[0;31mTypeError\u001b[0m: get_random_path() takes 1 positional argument but 3 were given"
     ]
    }
   ],
   "source": [
    "# Arguments after * can only by assigned as keyword arguments\n",
    "def get_random_path(n, *, move_min=-10, move_max=10):\n",
    "    path = [(0, 0)]\n",
    "\n",
    "    for _ in range(n):\n",
    "        dx = random.randint(move_min, move_max)\n",
    "        dy = random.randint(move_min, move_max)\n",
    "        path.append((path[-1][0]+dx, path[-1][1]+dy))\n",
    "\n",
    "    return path\n",
    "\n",
    "print(get_random_path(10, -5, 5))"
   ]
  },
  {
   "cell_type": "code",
   "execution_count": 79,
   "metadata": {},
   "outputs": [
    {
     "name": "stdout",
     "output_type": "stream",
     "text": [
      "((1, 1), (2, 3))\n"
     ]
    }
   ],
   "source": [
    "# Varying number of additional positional parameters with *args\n",
    "def get_random_path(n, *args, move_min=-1, move_max=1):\n",
    "    print(args)\n",
    "\n",
    "get_random_path(10, (1,1), (2,3), move_max=5)"
   ]
  },
  {
   "cell_type": "code",
   "execution_count": 81,
   "metadata": {},
   "outputs": [
    {
     "name": "stdout",
     "output_type": "stream",
     "text": [
      "{'color': 'red', 'line_type': 'solid'}\n"
     ]
    }
   ],
   "source": [
    "# Varying number of additional keyword arguments with **kwargs\n",
    "def get_random_path(n, *, move_min=-1, move_max=1, **kwargs):\n",
    "    print(kwargs)\n",
    "\n",
    "get_random_path(10, move_max=5, color=\"red\", line_type=\"solid\")"
   ]
  },
  {
   "cell_type": "code",
   "execution_count": 1,
   "metadata": {},
   "outputs": [
    {
     "data": {
      "text/plain": [
       "4"
      ]
     },
     "execution_count": 1,
     "metadata": {},
     "output_type": "execute_result"
    }
   ],
   "source": [
    "# Lambdas: Inline Function definition\n",
    "func = lambda x,y: x+y\n",
    "func(2,2)"
   ]
  },
  {
   "cell_type": "markdown",
   "metadata": {},
   "source": [
    "### 6. Function Scope"
   ]
  },
  {
   "cell_type": "markdown",
   "metadata": {},
   "source": [
    "**Keywords global and nonlocal**"
   ]
  },
  {
   "cell_type": "code",
   "execution_count": 84,
   "metadata": {},
   "outputs": [
    {
     "name": "stdout",
     "output_type": "stream",
     "text": [
      "[(2, 2), (7, 2), (14, 5), (22, 6), (25, 11), (25, 8), (35, 5), (43, 13), (37, 7), (30, 17), (36, 24)]\n"
     ]
    }
   ],
   "source": [
    "path_origin = (0, 0)\n",
    "\n",
    "def configure_random_path(*, move_min=-1, move_max=1):\n",
    "\n",
    "    def random_path(n):\n",
    "        \n",
    "        # Change global variable (in global scope)\n",
    "        global path_origin\n",
    "        path_origin = (2, 2)\n",
    "        path = [path_origin]\n",
    "\n",
    "        for _ in range(n):\n",
    "            \n",
    "            # Change variable in surrounding function scope with nonlocal\n",
    "            nonlocal move_min, move_max\n",
    "            move_max += 1\n",
    "            move_min -= 1\n",
    "            dx = random.randint(move_min, move_max)\n",
    "            dy = random.randint(move_min, move_max)\n",
    "            path.append((path[-1][0]+dx, path[-1][1]+dy))\n",
    "\n",
    "        return path\n",
    "\n",
    "    return random_path\n",
    "\n",
    "random_path = configure_random_path(move_max=5)\n",
    "\n",
    "print(random_path(10))"
   ]
  },
  {
   "cell_type": "markdown",
   "metadata": {},
   "source": [
    "### 7.Sets"
   ]
  },
  {
   "cell_type": "code",
   "execution_count": 87,
   "metadata": {},
   "outputs": [],
   "source": [
    "odds = {1, 3, 5, 7, 9}\n",
    "primes = {2, 3, 5, 7}"
   ]
  },
  {
   "cell_type": "code",
   "execution_count": 89,
   "metadata": {},
   "outputs": [
    {
     "data": {
      "text/plain": [
       "{1, 2, 3, 5, 7, 9}"
      ]
     },
     "execution_count": 89,
     "metadata": {},
     "output_type": "execute_result"
    }
   ],
   "source": [
    "odds.union(primes)"
   ]
  },
  {
   "cell_type": "code",
   "execution_count": 90,
   "metadata": {},
   "outputs": [
    {
     "data": {
      "text/plain": [
       "{3, 5, 7}"
      ]
     },
     "execution_count": 90,
     "metadata": {},
     "output_type": "execute_result"
    }
   ],
   "source": [
    "odds.intersection(primes)"
   ]
  },
  {
   "cell_type": "code",
   "execution_count": 91,
   "metadata": {},
   "outputs": [
    {
     "ename": "TypeError",
     "evalue": "unhashable type: 'set'",
     "output_type": "error",
     "traceback": [
      "\u001b[0;31m---------------------------------------------------------------------------\u001b[0m",
      "\u001b[0;31mTypeError\u001b[0m                                 Traceback (most recent call last)",
      "\u001b[0;32m<ipython-input-91-6296f33441a8>\u001b[0m in \u001b[0;36m<module>\u001b[0;34m\u001b[0m\n\u001b[1;32m      1\u001b[0m \u001b[0;31m# Set of mutable sets not possible\u001b[0m\u001b[0;34m\u001b[0m\u001b[0;34m\u001b[0m\u001b[0;34m\u001b[0m\u001b[0m\n\u001b[0;32m----> 2\u001b[0;31m \u001b[0mset_of_sets\u001b[0m \u001b[0;34m=\u001b[0m \u001b[0;34m{\u001b[0m\u001b[0;34m{\u001b[0m\u001b[0;36m1\u001b[0m\u001b[0;34m,\u001b[0m \u001b[0;36m2\u001b[0m\u001b[0;34m}\u001b[0m\u001b[0;34m,\u001b[0m \u001b[0;34m{\u001b[0m\u001b[0;36m3\u001b[0m\u001b[0;34m,\u001b[0m \u001b[0;36m4\u001b[0m\u001b[0;34m,\u001b[0m \u001b[0;36m6\u001b[0m\u001b[0;34m}\u001b[0m\u001b[0;34m}\u001b[0m\u001b[0;34m\u001b[0m\u001b[0;34m\u001b[0m\u001b[0m\n\u001b[0m",
      "\u001b[0;31mTypeError\u001b[0m: unhashable type: 'set'"
     ]
    }
   ],
   "source": [
    "# Set of mutable sets not possible\n",
    "set_of_sets = {{1, 2}, {3, 4, 6}}"
   ]
  },
  {
   "cell_type": "code",
   "execution_count": 93,
   "metadata": {},
   "outputs": [
    {
     "data": {
      "text/plain": [
       "{frozenset({3, 4, 6}), frozenset({1, 2})}"
      ]
     },
     "execution_count": 93,
     "metadata": {},
     "output_type": "execute_result"
    }
   ],
   "source": [
    "# Sets of immutable sets\n",
    "set_of_sets = {frozenset({1, 2}), frozenset({3, 4, 6})}\n",
    "set_of_sets"
   ]
  },
  {
   "cell_type": "markdown",
   "metadata": {},
   "source": [
    "### 8. Lists"
   ]
  },
  {
   "cell_type": "code",
   "execution_count": 37,
   "metadata": {},
   "outputs": [
    {
     "data": {
      "text/plain": [
       "['abc', 12.799, 5, [1, 1, 2], {'x', 'y'}, True, '⅀']"
      ]
     },
     "execution_count": 37,
     "metadata": {},
     "output_type": "execute_result"
    }
   ],
   "source": [
    "# Lists are untyped\n",
    "anything = [\"abc\", 12.799, 5, [1, 1, 2], {\"x\", \"y\"}, True, \"\\u2140\"]\n",
    "anything"
   ]
  },
  {
   "cell_type": "code",
   "execution_count": 38,
   "metadata": {},
   "outputs": [
    {
     "data": {
      "text/plain": [
       "'⅀'"
      ]
     },
     "execution_count": 38,
     "metadata": {},
     "output_type": "execute_result"
    }
   ],
   "source": [
    "# Last element\n",
    "anything[-1]"
   ]
  },
  {
   "cell_type": "markdown",
   "metadata": {},
   "source": [
    "**Deep copy**"
   ]
  },
  {
   "cell_type": "code",
   "execution_count": 39,
   "metadata": {},
   "outputs": [
    {
     "data": {
      "text/plain": [
       "['abc', 12.799, 5, [1, 1, 2], {'x', 'y'}, True, '⅀']"
      ]
     },
     "execution_count": 39,
     "metadata": {},
     "output_type": "execute_result"
    }
   ],
   "source": [
    "# Deep copy \n",
    "import copy\n",
    "anything2 = copy.deepcopy(anything)\n",
    "anything2[4].add(\"z\")\n",
    "anything"
   ]
  },
  {
   "cell_type": "code",
   "execution_count": 40,
   "metadata": {},
   "outputs": [
    {
     "data": {
      "text/plain": [
       "['abc', 12.799, 5, [1, 1, 2], {'x', 'y', 'z'}, True, '⅀']"
      ]
     },
     "execution_count": 40,
     "metadata": {},
     "output_type": "execute_result"
    }
   ],
   "source": [
    "anything2"
   ]
  },
  {
   "cell_type": "markdown",
   "metadata": {},
   "source": [
    "**Slicing**"
   ]
  },
  {
   "cell_type": "code",
   "execution_count": 41,
   "metadata": {},
   "outputs": [
    {
     "data": {
      "text/plain": [
       "[{'x', 'y'}, True]"
      ]
     },
     "execution_count": 41,
     "metadata": {},
     "output_type": "execute_result"
    }
   ],
   "source": [
    "# Slice: from third last to last (excluded)\n",
    "anything[-3:-1]"
   ]
  },
  {
   "cell_type": "code",
   "execution_count": 42,
   "metadata": {},
   "outputs": [
    {
     "data": {
      "text/plain": [
       "[12.799, [1, 1, 2], True]"
      ]
     },
     "execution_count": 42,
     "metadata": {},
     "output_type": "execute_result"
    }
   ],
   "source": [
    "# Slice with step\n",
    "anything[1:6:2]"
   ]
  },
  {
   "cell_type": "code",
   "execution_count": 43,
   "metadata": {},
   "outputs": [
    {
     "data": {
      "text/plain": [
       "['⅀', True, {'x', 'y'}, [1, 1, 2], 5, 12.799, 'abc']"
      ]
     },
     "execution_count": 43,
     "metadata": {},
     "output_type": "execute_result"
    }
   ],
   "source": [
    "# Reverse order\n",
    "anything[::-1]"
   ]
  },
  {
   "cell_type": "code",
   "execution_count": 44,
   "metadata": {},
   "outputs": [
    {
     "data": {
      "text/plain": [
       "['abc', '*', '⅀']"
      ]
     },
     "execution_count": 44,
     "metadata": {},
     "output_type": "execute_result"
    }
   ],
   "source": [
    "# Replace slice\n",
    "anything[1:6] = \"*\"\n",
    "anything"
   ]
  },
  {
   "cell_type": "code",
   "execution_count": 45,
   "metadata": {},
   "outputs": [
    {
     "data": {
      "text/plain": [
       "'Hello World'"
      ]
     },
     "execution_count": 45,
     "metadata": {},
     "output_type": "execute_result"
    }
   ],
   "source": [
    "# Strings are Lists of Characters\n",
    "msg = \"Hello World!\"\n",
    "msg[:-1]"
   ]
  },
  {
   "cell_type": "markdown",
   "metadata": {},
   "source": [
    "**Other List operations**"
   ]
  },
  {
   "cell_type": "code",
   "execution_count": 46,
   "metadata": {},
   "outputs": [
    {
     "data": {
      "text/plain": [
       "['abc', '*', '⅀', 'more']"
      ]
     },
     "execution_count": 46,
     "metadata": {},
     "output_type": "execute_result"
    }
   ],
   "source": [
    "# Concatenation\n",
    "anything + [\"more\"]"
   ]
  },
  {
   "cell_type": "code",
   "execution_count": 47,
   "metadata": {},
   "outputs": [
    {
     "data": {
      "text/plain": [
       "['abc', '*', '⅀', 'more']"
      ]
     },
     "execution_count": 47,
     "metadata": {},
     "output_type": "execute_result"
    }
   ],
   "source": [
    "# Unpacking\n",
    "[*anything, \"more\"]"
   ]
  },
  {
   "cell_type": "code",
   "execution_count": 48,
   "metadata": {},
   "outputs": [
    {
     "data": {
      "text/plain": [
       "[0, 0, 0, 0, 0, 0, 0, 0, 0, 0]"
      ]
     },
     "execution_count": 48,
     "metadata": {},
     "output_type": "execute_result"
    }
   ],
   "source": [
    "# Multiplication\n",
    "[0] * 10"
   ]
  },
  {
   "cell_type": "code",
   "execution_count": 49,
   "metadata": {},
   "outputs": [
    {
     "data": {
      "text/plain": [
       "['abc', '*', '⅀', 'x']"
      ]
     },
     "execution_count": 49,
     "metadata": {},
     "output_type": "execute_result"
    }
   ],
   "source": [
    "# append element \n",
    "anything.append(\"x\")\n",
    "anything"
   ]
  },
  {
   "cell_type": "markdown",
   "metadata": {},
   "source": [
    "**Tuples**"
   ]
  },
  {
   "cell_type": "code",
   "execution_count": 52,
   "metadata": {},
   "outputs": [
    {
     "ename": "TypeError",
     "evalue": "'tuple' object does not support item assignment",
     "output_type": "error",
     "traceback": [
      "\u001b[0;31m---------------------------------------------------------------------------\u001b[0m",
      "\u001b[0;31mTypeError\u001b[0m                                 Traceback (most recent call last)",
      "\u001b[0;32m<ipython-input-52-e0f66cbcf1ea>\u001b[0m in \u001b[0;36m<module>\u001b[0;34m\u001b[0m\n\u001b[1;32m      1\u001b[0m \u001b[0;31m# Tuples are immutable\u001b[0m\u001b[0;34m\u001b[0m\u001b[0;34m\u001b[0m\u001b[0;34m\u001b[0m\u001b[0m\n\u001b[1;32m      2\u001b[0m \u001b[0mtup\u001b[0m \u001b[0;34m=\u001b[0m \u001b[0;34m(\u001b[0m\u001b[0;36m1\u001b[0m\u001b[0;34m,\u001b[0m \u001b[0;36m2\u001b[0m\u001b[0;34m)\u001b[0m\u001b[0;34m\u001b[0m\u001b[0;34m\u001b[0m\u001b[0m\n\u001b[0;32m----> 3\u001b[0;31m \u001b[0mtup\u001b[0m\u001b[0;34m[\u001b[0m\u001b[0;36m0\u001b[0m\u001b[0;34m]\u001b[0m \u001b[0;34m=\u001b[0m \u001b[0;36m2\u001b[0m\u001b[0;34m\u001b[0m\u001b[0;34m\u001b[0m\u001b[0m\n\u001b[0m",
      "\u001b[0;31mTypeError\u001b[0m: 'tuple' object does not support item assignment"
     ]
    }
   ],
   "source": [
    "# Tuples are immutable\n",
    "tup = (1, 2)\n",
    "tup[0] = 2"
   ]
  },
  {
   "cell_type": "markdown",
   "metadata": {},
   "source": [
    "### 9. Dictionaries"
   ]
  },
  {
   "cell_type": "code",
   "execution_count": 147,
   "metadata": {},
   "outputs": [
    {
     "data": {
      "text/plain": [
       "{'black': (0, 0, 0), 'white': (255, 255, 255), 'yellow': (255, 255, 20)}"
      ]
     },
     "execution_count": 147,
     "metadata": {},
     "output_type": "execute_result"
    }
   ],
   "source": [
    "colorsA = {\n",
    "    \"black\": (0, 0, 0),\n",
    "    \"white\": (255, 255, 255),\n",
    "    \"yellow\": (255, 255, 20)\n",
    "}\n",
    "colorsA"
   ]
  },
  {
   "cell_type": "code",
   "execution_count": 148,
   "metadata": {},
   "outputs": [
    {
     "data": {
      "text/plain": [
       "{'red': (250, 30, 50), 'green': (50, 200, 50)}"
      ]
     },
     "execution_count": 148,
     "metadata": {},
     "output_type": "execute_result"
    }
   ],
   "source": [
    "# Alternative Definition of Dict\n",
    "colorsB = dict(\n",
    "    red=(250, 30, 50),\n",
    "    green=(50, 200, 50)\n",
    ")\n",
    "colorsB"
   ]
  },
  {
   "cell_type": "code",
   "execution_count": 149,
   "metadata": {},
   "outputs": [
    {
     "data": {
      "text/plain": [
       "{'black': (0, 0, 0),\n",
       " 'white': (255, 255, 255),\n",
       " 'yellow': (255, 255, 20),\n",
       " 'red': (250, 30, 50),\n",
       " 'green': (50, 200, 50)}"
      ]
     },
     "execution_count": 149,
     "metadata": {},
     "output_type": "execute_result"
    }
   ],
   "source": [
    "# Unpacking\n",
    "colors = {**colorsA, **colorsB}\n",
    "colors"
   ]
  },
  {
   "cell_type": "code",
   "execution_count": 150,
   "metadata": {},
   "outputs": [
    {
     "data": {
      "text/plain": [
       "{'black': (0, 0, 0),\n",
       " 'white': (255, 255, 255),\n",
       " 'yellow': (255, 255, 20),\n",
       " 'red': (250, 30, 50),\n",
       " 'green': (50, 200, 50),\n",
       " 'blue': (0, 0, 150)}"
      ]
     },
     "execution_count": 150,
     "metadata": {},
     "output_type": "execute_result"
    }
   ],
   "source": [
    "# Add entry\n",
    "colors[\"blue\"] = (0, 0, 150)\n",
    "colors"
   ]
  },
  {
   "cell_type": "code",
   "execution_count": 151,
   "metadata": {},
   "outputs": [
    {
     "data": {
      "text/plain": [
       "{'black': (0, 0, 0),\n",
       " 'white': (255, 255, 255),\n",
       " 'red': (250, 30, 50),\n",
       " 'green': (50, 200, 50),\n",
       " 'blue': (0, 0, 150)}"
      ]
     },
     "execution_count": 151,
     "metadata": {},
     "output_type": "execute_result"
    }
   ],
   "source": [
    "# Delete entry\n",
    "del colors[\"yellow\"]\n",
    "colors"
   ]
  },
  {
   "cell_type": "code",
   "execution_count": 154,
   "metadata": {},
   "outputs": [
    {
     "name": "stdout",
     "output_type": "stream",
     "text": [
      "Doesn't exist\n"
     ]
    }
   ],
   "source": [
    "# Check if entry exists\n",
    "if \"yellow\" in colors.keys():\n",
    "    print(\"Exists\")\n",
    "else: \n",
    "    print(\"Doesn't exist\")"
   ]
  },
  {
   "cell_type": "code",
   "execution_count": 161,
   "metadata": {},
   "outputs": [
    {
     "name": "stdout",
     "output_type": "stream",
     "text": [
      "black (0, 0, 0)\n",
      "white (255, 255, 255)\n",
      "red (250, 30, 50)\n",
      "green (50, 200, 50)\n",
      "blue (0, 0, 150)\n"
     ]
    }
   ],
   "source": [
    "# Iterate over Dict\n",
    "for (key, val) in colors.items():\n",
    "    print(key, val)"
   ]
  },
  {
   "cell_type": "code",
   "execution_count": 164,
   "metadata": {},
   "outputs": [
    {
     "data": {
      "text/plain": [
       "(0, 0, 0)"
      ]
     },
     "execution_count": 164,
     "metadata": {},
     "output_type": "execute_result"
    }
   ],
   "source": [
    "# Get value savely (if doesnt exist return default, here: (0, 0, 0))\n",
    "colors.get(\"yellow\", (0, 0, 0))"
   ]
  },
  {
   "cell_type": "markdown",
   "metadata": {},
   "source": [
    "### 10. Class Basics"
   ]
  },
  {
   "cell_type": "code",
   "execution_count": 175,
   "metadata": {},
   "outputs": [],
   "source": [
    "class Path:\n",
    "    # Class variable: ORIGIN\n",
    "    ORIGIN = (0, 0)\n",
    "\n",
    "    def __init__(self, start_x=None, start_y=None):\n",
    "        x = start_x or Path.ORIGIN[0]\n",
    "        y = start_y or Path.ORIGIN[1]\n",
    "        \n",
    "        # Instance variable: coord\n",
    "        self.coord = [(x, y)]\n",
    "    \n",
    "    # Class Method: First argument cls -> reference to class\n",
    "    @classmethod\n",
    "    def random(cls, n):\n",
    "        path = cls()\n",
    "        for _ in range(n):\n",
    "            path.move(random.randint(-1, 1), random.randint(-1, 1))\n",
    "        return path\n",
    "\n",
    "    # Static Method -> no reference to instance or class\n",
    "    @staticmethod\n",
    "    def hello():\n",
    "        print(\"Hello World!\")\n",
    "\n",
    "    # Instance Method: First argument self -> reference to instance\n",
    "    def add_point(self, x, y):\n",
    "        self.coord.append((x, y))\n",
    "        return self\n",
    "\n",
    "    def move(self, delta_x, delta_y):\n",
    "        last = self.coord[-1]\n",
    "        new = (last[0] + delta_x, last[1] + delta_y)\n",
    "        self.coord.append(new)\n",
    "        return self\n",
    "\n",
    "    def __repr__(self):  # Text representation of Path\n",
    "        return \"Path: \" + str(self.coord)\n",
    "\n",
    "\n",
    "path1 = Path()\n",
    "path2 = Path(1, 1)\n",
    "\n",
    "Path.ORIGIN = (2, 2)"
   ]
  },
  {
   "cell_type": "code",
   "execution_count": 171,
   "metadata": {},
   "outputs": [
    {
     "data": {
      "text/plain": [
       "Path: [(0, 0)]"
      ]
     },
     "execution_count": 171,
     "metadata": {},
     "output_type": "execute_result"
    }
   ],
   "source": [
    "# Instance Variables (coord) different for each instance\n",
    "path1"
   ]
  },
  {
   "cell_type": "code",
   "execution_count": 168,
   "metadata": {},
   "outputs": [
    {
     "data": {
      "text/plain": [
       "Path: [(1, 1)]"
      ]
     },
     "execution_count": 168,
     "metadata": {},
     "output_type": "execute_result"
    }
   ],
   "source": [
    "path2"
   ]
  },
  {
   "cell_type": "code",
   "execution_count": 169,
   "metadata": {},
   "outputs": [
    {
     "data": {
      "text/plain": [
       "(2, 2)"
      ]
     },
     "execution_count": 169,
     "metadata": {},
     "output_type": "execute_result"
    }
   ],
   "source": [
    "# Class Variables shared by all instances\n",
    "path1.ORIGIN"
   ]
  },
  {
   "cell_type": "code",
   "execution_count": 170,
   "metadata": {},
   "outputs": [
    {
     "data": {
      "text/plain": [
       "(2, 2)"
      ]
     },
     "execution_count": 170,
     "metadata": {},
     "output_type": "execute_result"
    }
   ],
   "source": [
    "path2.ORIGIN"
   ]
  },
  {
   "cell_type": "code",
   "execution_count": 172,
   "metadata": {},
   "outputs": [
    {
     "data": {
      "text/plain": [
       "Path: [(0, 0), (3, 3)]"
      ]
     },
     "execution_count": 172,
     "metadata": {},
     "output_type": "execute_result"
    }
   ],
   "source": [
    "path1.add_point(3, 3)\n",
    "path1"
   ]
  },
  {
   "cell_type": "code",
   "execution_count": 173,
   "metadata": {},
   "outputs": [
    {
     "data": {
      "text/plain": [
       "Path: [(0, 0), (3, 3), (3, 3)]"
      ]
     },
     "execution_count": 173,
     "metadata": {},
     "output_type": "execute_result"
    }
   ],
   "source": [
    "# Same as:\n",
    "Path.add_point(path1, 3, 3)\n",
    "path1"
   ]
  },
  {
   "cell_type": "code",
   "execution_count": 176,
   "metadata": {},
   "outputs": [
    {
     "data": {
      "text/plain": [
       "Path: [(2, 2), (3, 2), (3, 3), (3, 3), (4, 4), (4, 4), (3, 3), (2, 4), (3, 4), (2, 3), (2, 2)]"
      ]
     },
     "execution_count": 176,
     "metadata": {},
     "output_type": "execute_result"
    }
   ],
   "source": [
    "# Class Method\n",
    "Path.random(10)"
   ]
  },
  {
   "cell_type": "markdown",
   "metadata": {},
   "source": [
    "### 11. Exceptions"
   ]
  },
  {
   "cell_type": "code",
   "execution_count": 177,
   "metadata": {},
   "outputs": [
    {
     "data": {
      "text/plain": [
       "{'black': (0, 0, 0),\n",
       " 'white': (255, 255, 255),\n",
       " 'red': (250, 30, 50),\n",
       " 'green': (50, 200, 50),\n",
       " 'blue': (0, 0, 150)}"
      ]
     },
     "execution_count": 177,
     "metadata": {},
     "output_type": "execute_result"
    }
   ],
   "source": [
    "colors"
   ]
  },
  {
   "cell_type": "code",
   "execution_count": 178,
   "metadata": {},
   "outputs": [
    {
     "ename": "KeyError",
     "evalue": "'yellow'",
     "output_type": "error",
     "traceback": [
      "\u001b[0;31m---------------------------------------------------------------------------\u001b[0m",
      "\u001b[0;31mKeyError\u001b[0m                                  Traceback (most recent call last)",
      "\u001b[0;32m<ipython-input-178-f7e920a60580>\u001b[0m in \u001b[0;36m<module>\u001b[0;34m\u001b[0m\n\u001b[0;32m----> 1\u001b[0;31m \u001b[0;32mdel\u001b[0m \u001b[0mcolors\u001b[0m\u001b[0;34m[\u001b[0m\u001b[0;34m\"yellow\"\u001b[0m\u001b[0;34m]\u001b[0m\u001b[0;34m\u001b[0m\u001b[0;34m\u001b[0m\u001b[0m\n\u001b[0m",
      "\u001b[0;31mKeyError\u001b[0m: 'yellow'"
     ]
    }
   ],
   "source": [
    "# Key Error\n",
    "del colors[\"yellow\"]"
   ]
  },
  {
   "cell_type": "code",
   "execution_count": 179,
   "metadata": {},
   "outputs": [
    {
     "name": "stdout",
     "output_type": "stream",
     "text": [
      "Key Error!\n"
     ]
    }
   ],
   "source": [
    "# try...catch for error handling\n",
    "try:\n",
    "    del colors[\"yellow\"]\n",
    "except KeyError:\n",
    "    print(\"Key Error!\")\n",
    "    "
   ]
  },
  {
   "cell_type": "code",
   "execution_count": 180,
   "metadata": {},
   "outputs": [
    {
     "ename": "ValueError",
     "evalue": "Value not allowed!",
     "output_type": "error",
     "traceback": [
      "\u001b[0;31m---------------------------------------------------------------------------\u001b[0m",
      "\u001b[0;31mValueError\u001b[0m                                Traceback (most recent call last)",
      "\u001b[0;32m<ipython-input-180-0165e375599a>\u001b[0m in \u001b[0;36m<module>\u001b[0;34m\u001b[0m\n\u001b[1;32m      1\u001b[0m \u001b[0;31m# Raise custom error\u001b[0m\u001b[0;34m\u001b[0m\u001b[0;34m\u001b[0m\u001b[0;34m\u001b[0m\u001b[0m\n\u001b[0;32m----> 2\u001b[0;31m \u001b[0;32mraise\u001b[0m \u001b[0mValueError\u001b[0m\u001b[0;34m(\u001b[0m\u001b[0;34m\"Value not allowed!\"\u001b[0m\u001b[0;34m)\u001b[0m\u001b[0;34m\u001b[0m\u001b[0;34m\u001b[0m\u001b[0m\n\u001b[0m",
      "\u001b[0;31mValueError\u001b[0m: Value not allowed!"
     ]
    }
   ],
   "source": [
    "# Raise custom error\n",
    "raise ValueError(\"Value not allowed!\")"
   ]
  }
 ],
 "metadata": {
  "kernelspec": {
   "display_name": "Python 3",
   "language": "python",
   "name": "python3"
  },
  "language_info": {
   "codemirror_mode": {
    "name": "ipython",
    "version": 3
   },
   "file_extension": ".py",
   "mimetype": "text/x-python",
   "name": "python",
   "nbconvert_exporter": "python",
   "pygments_lexer": "ipython3",
   "version": "3.7.6"
  }
 },
 "nbformat": 4,
 "nbformat_minor": 4
}
